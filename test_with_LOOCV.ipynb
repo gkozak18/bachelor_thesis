{
 "cells": [
  {
   "cell_type": "code",
   "execution_count": 1,
   "metadata": {},
   "outputs": [
    {
     "name": "stdout",
     "output_type": "stream",
     "text": [
      "cuda\n",
      "12.4\n"
     ]
    }
   ],
   "source": [
    "from data import LOOCV_datasets\n",
    "from torch.utils.data import DataLoader\n",
    "import matplotlib.pyplot as plt\n",
    "import torch\n",
    "import torch.nn as nn\n",
    "import torchvision\n",
    "from tqdm.notebook import tqdm\n",
    "from scipy.stats import spearmanr, pearsonr\n",
    "\n",
    "if torch.cuda.is_available():\n",
    "    device = \"cuda\"\n",
    "else:\n",
    "    device = \"cpu\"\n",
    "print(device)\n",
    "print(torch.version.cuda)"
   ]
  },
  {
   "cell_type": "code",
   "execution_count": 2,
   "metadata": {},
   "outputs": [
    {
     "data": {
      "application/vnd.jupyter.widget-view+json": {
       "model_id": "98aa1bac0f124576adb4538a77db6bfe",
       "version_major": 2,
       "version_minor": 0
      },
      "text/plain": [
       "  0%|          | 0/880 [00:00<?, ?it/s]"
      ]
     },
     "metadata": {},
     "output_type": "display_data"
    },
    {
     "data": {
      "application/vnd.jupyter.widget-view+json": {
       "model_id": "43442cdb41e24a6a9cc93c9d8e4fc3cc",
       "version_major": 2,
       "version_minor": 0
      },
      "text/plain": [
       "  0%|          | 0/220 [00:00<?, ?it/s]"
      ]
     },
     "metadata": {},
     "output_type": "display_data"
    },
    {
     "name": "stdout",
     "output_type": "stream",
     "text": [
      "Loaded 55 patients\n"
     ]
    }
   ],
   "source": [
    "image_size = (420, 420)\n",
    "datasets = LOOCV_datasets(data_folders=[\"data/train\", \"data/test\"], size=image_size)"
   ]
  },
  {
   "cell_type": "code",
   "execution_count": 5,
   "metadata": {},
   "outputs": [],
   "source": [
    "def one_loocv_cycle(train_dataset, test_dataset, batch_size=2, epochts=10):\n",
    "    train_loader = DataLoader(train_dataset, batch_size=batch_size, shuffle=True)\n",
    "    test_loader = DataLoader(test_dataset, batch_size=2, shuffle=False)\n",
    "\n",
    "    model = torchvision.models.densenet121(weights=torchvision.models.DenseNet121_Weights.DEFAULT)\n",
    "    model.classifier = torch.nn.Linear(1024, 1)\n",
    "    model.to(device)\n",
    "\n",
    "    # Training\n",
    "    optimizer = torch.optim.AdamW(model.parameters(), lr=1e-4)\n",
    "    criterion = nn.L1Loss()\n",
    "\n",
    "    for epoch in tqdm(range(epochts), total=epochts):\n",
    "        # Training loop\n",
    "        model.train()\n",
    "        train_loss = 0\n",
    "        for images, labels in train_loader:\n",
    "            images, labels = images.to(device), labels.to(device)\n",
    "            outputs = model(images)\n",
    "            loss = criterion(outputs, labels)\n",
    "            optimizer.zero_grad()\n",
    "            loss.backward()\n",
    "            optimizer.step()\n",
    "            train_loss += loss.item()\n",
    "        train_loss /= len(train_loader)\n",
    "        # Validation loop\n",
    "        model.eval()\n",
    "        with torch.no_grad():\n",
    "            val_loss = 0\n",
    "            for images, labels in test_loader:\n",
    "                images, labels = images.to(device), labels.to(device)\n",
    "                outputs = model(images)\n",
    "                loss = criterion(outputs, labels)\n",
    "                val_loss += loss.item()\n",
    "        val_loss /= len(test_loader)\n",
    "        print(f\"Epoch {epoch + 1}/{epochts}, Training loss: {train_loss}\")\n",
    "        print(f\"Epoch {epoch + 1}/{epochts}, Validation loss: {val_loss}\")\n",
    "\n",
    "    # Testing\n",
    "    model.eval()\n",
    "    test_targets = [i[1].item() for i in test_dataset]\n",
    "    model_outputs = []\n",
    "    for x, y in test_dataset:\n",
    "        with torch.no_grad():\n",
    "            pred = model(x.unsqueeze(0).to(device))\n",
    "            model_outputs.append(pred[0][0].item())\n",
    "    data_for_scc = list(zip(test_targets, model_outputs))\n",
    "\n",
    "    return data_for_scc"
   ]
  },
  {
   "cell_type": "code",
   "execution_count": 7,
   "metadata": {},
   "outputs": [
    {
     "name": "stdout",
     "output_type": "stream",
     "text": [
      "LOOCV 1\n"
     ]
    },
    {
     "data": {
      "application/vnd.jupyter.widget-view+json": {
       "model_id": "fb96bee4f4484fc1b6a789dfeb0612c7",
       "version_major": 2,
       "version_minor": 0
      },
      "text/plain": [
       "  0%|          | 0/10 [00:00<?, ?it/s]"
      ]
     },
     "metadata": {},
     "output_type": "display_data"
    },
    {
     "name": "stdout",
     "output_type": "stream",
     "text": [
      "Epoch 1/10, Training loss: 20.754129551075124\n",
      "Epoch 1/10, Validation loss: 53.58882179260254\n",
      "Epoch 2/10, Training loss: 14.553373741441304\n",
      "Epoch 2/10, Validation loss: 52.59878845214844\n",
      "Epoch 3/10, Training loss: 11.680445620748731\n",
      "Epoch 3/10, Validation loss: 51.924472427368165\n",
      "Epoch 4/10, Training loss: 9.133814634217156\n",
      "Epoch 4/10, Validation loss: 43.61979026794434\n",
      "Epoch 5/10, Training loss: 6.876561914991449\n",
      "Epoch 5/10, Validation loss: 57.16317481994629\n",
      "Epoch 6/10, Training loss: 6.519555062828241\n",
      "Epoch 6/10, Validation loss: 37.91698322296143\n",
      "Epoch 7/10, Training loss: 5.604056947540354\n",
      "Epoch 7/10, Validation loss: 33.466727066040036\n",
      "Epoch 8/10, Training loss: 4.96964771328149\n",
      "Epoch 8/10, Validation loss: 44.94395217895508\n",
      "Epoch 9/10, Training loss: 4.340466026409908\n",
      "Epoch 9/10, Validation loss: 45.53731575012207\n",
      "Epoch 10/10, Training loss: 4.251912812723054\n",
      "Epoch 10/10, Validation loss: 26.926817321777342\n"
     ]
    }
   ],
   "source": [
    "scc_data = []\n",
    "i = 0\n",
    "\n",
    "for train_set, test_set in [i for i in datasets][0:1]:\n",
    "    print(f\"LOOCV {i+1}\")\n",
    "    res = one_loocv_cycle(train_set, test_set, batch_size=4, epochts=10)\n",
    "    scc_data.extend(res)\n",
    "    i += 1"
   ]
  },
  {
   "cell_type": "code",
   "execution_count": 27,
   "metadata": {},
   "outputs": [
    {
     "name": "stdout",
     "output_type": "stream",
     "text": [
      "Spearman correlation: SignificanceResult(statistic=np.float64(-0.3805967709584713), pvalue=np.float64(2.7076316952826272e-08))\n",
      "Pearson correlation: PearsonRResult(statistic=np.float64(-0.36004741692614517), pvalue=np.float64(1.6355037132651728e-07))\n"
     ]
    }
   ],
   "source": [
    "test_targets = [i[0] for i in scc_data]\n",
    "model_outputs = [-i[1] for i in scc_data]\n",
    "\n",
    "print(\"Spearman correlation:\", spearmanr(test_targets, model_outputs))\n",
    "print(\"Pearson correlation:\", pearsonr(test_targets, model_outputs))"
   ]
  },
  {
   "cell_type": "code",
   "execution_count": 28,
   "metadata": {},
   "outputs": [
    {
     "name": "stdout",
     "output_type": "stream",
     "text": [
      "1) True: 75.00 — Predicted: -50.38\n",
      "2) True: 75.00 — Predicted: -50.74\n",
      "3) True: 75.00 — Predicted: -43.59\n",
      "4) True: 75.00 — Predicted: -48.82\n",
      "5) True: 75.00 — Predicted: -47.98\n",
      "6) True: 75.00 — Predicted: -46.72\n",
      "7) True: 75.00 — Predicted: -48.59\n",
      "8) True: 75.00 — Predicted: -50.08\n",
      "9) True: 75.00 — Predicted: -47.78\n",
      "10) True: 75.00 — Predicted: -48.37\n",
      "11) True: 75.00 — Predicted: -49.59\n",
      "12) True: 75.00 — Predicted: -49.90\n",
      "13) True: 75.00 — Predicted: -42.67\n",
      "14) True: 75.00 — Predicted: -47.99\n",
      "15) True: 75.00 — Predicted: -47.08\n",
      "16) True: 75.00 — Predicted: -45.84\n",
      "17) True: 75.00 — Predicted: -47.76\n",
      "18) True: 75.00 — Predicted: -49.23\n",
      "19) True: 75.00 — Predicted: -46.83\n",
      "20) True: 75.00 — Predicted: -47.59\n",
      "21) True: 70.00 — Predicted: -37.33\n",
      "22) True: 70.00 — Predicted: -36.41\n",
      "23) True: 70.00 — Predicted: -34.83\n",
      "24) True: 70.00 — Predicted: -37.42\n",
      "25) True: 70.00 — Predicted: -36.81\n",
      "26) True: 70.00 — Predicted: -35.75\n",
      "27) True: 70.00 — Predicted: -35.89\n",
      "28) True: 70.00 — Predicted: -33.46\n",
      "29) True: 70.00 — Predicted: -37.41\n",
      "30) True: 70.00 — Predicted: -33.03\n",
      "31) True: 70.00 — Predicted: -37.22\n",
      "32) True: 70.00 — Predicted: -36.35\n",
      "33) True: 70.00 — Predicted: -34.60\n",
      "34) True: 70.00 — Predicted: -37.35\n",
      "35) True: 70.00 — Predicted: -36.70\n",
      "36) True: 70.00 — Predicted: -35.71\n",
      "37) True: 70.00 — Predicted: -35.94\n",
      "38) True: 70.00 — Predicted: -33.31\n",
      "39) True: 70.00 — Predicted: -37.34\n",
      "40) True: 70.00 — Predicted: -32.89\n",
      "41) True: 20.00 — Predicted: -35.79\n",
      "42) True: 20.00 — Predicted: -35.10\n",
      "43) True: 20.00 — Predicted: -37.44\n",
      "44) True: 20.00 — Predicted: -38.55\n",
      "45) True: 20.00 — Predicted: -41.21\n",
      "46) True: 20.00 — Predicted: -40.13\n",
      "47) True: 20.00 — Predicted: -40.44\n",
      "48) True: 20.00 — Predicted: -42.12\n",
      "49) True: 20.00 — Predicted: -40.48\n",
      "50) True: 20.00 — Predicted: -39.17\n"
     ]
    }
   ],
   "source": [
    "for i in range(50):\n",
    "    print(f\"{i+1}) True: {test_targets[i]:.2f} — Predicted: {model_outputs[i]:.2f}\")"
   ]
  },
  {
   "cell_type": "code",
   "execution_count": null,
   "metadata": {},
   "outputs": [],
   "source": []
  }
 ],
 "metadata": {
  "kernelspec": {
   "display_name": "venv",
   "language": "python",
   "name": "python3"
  },
  "language_info": {
   "codemirror_mode": {
    "name": "ipython",
    "version": 3
   },
   "file_extension": ".py",
   "mimetype": "text/x-python",
   "name": "python",
   "nbconvert_exporter": "python",
   "pygments_lexer": "ipython3",
   "version": "3.12.3"
  }
 },
 "nbformat": 4,
 "nbformat_minor": 2
}
