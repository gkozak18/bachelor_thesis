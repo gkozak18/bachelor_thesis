{
 "cells": [
  {
   "cell_type": "code",
   "execution_count": 1,
   "metadata": {},
   "outputs": [],
   "source": [
    "import pandas as pd\n",
    "from uuid import uuid4\n",
    "import os"
   ]
  },
  {
   "cell_type": "code",
   "execution_count": 2,
   "metadata": {},
   "outputs": [],
   "source": [
    "# annotation = pd.read_csv('Bdata/Demo_data.csv')\n",
    "\n",
    "# res_df = {\n",
    "#     \"patient\": [],\n",
    "#     \"target\": [],\n",
    "#     \"path\": []\n",
    "# }\n",
    "\n",
    "# image_forlder = \"Bdata/image_Data\"\n",
    "# output_folder = \"Bdata/Bdata\"\n",
    "# for i, patient in enumerate(annotation[\"Patient ID\"]):\n",
    "#     for filename in os.listdir(f\"{image_forlder}/\" + patient):\n",
    "#         if not filename.endswith(\".jpg\"):\n",
    "#             continue\n",
    "#         in_path = f\"{image_forlder}/\" + patient + \"/\" + filename\n",
    "#         out_path = f\"{output_folder}/{patient}_{filename}\"\n",
    "#         os.makedirs(os.path.dirname(out_path), exist_ok=True)\n",
    "#         os.system(f\"cp {in_path} {out_path}\")\n",
    "#         res_df[\"patient\"].append(patient)\n",
    "#         res_df[\"target\"].append(annotation.iloc[i][\"Steatosis stage\"])\n",
    "#         res_df[\"path\"].append(os.path.split(out_path)[-1])\n",
    "# res_df = pd.DataFrame(res_df)\n",
    "# res_df.to_csv(\"Bdata/Bdata/annotation.csv\", index=False)\n",
    "# print(\"Done\")\n",
    "# res_df"
   ]
  },
  {
   "cell_type": "code",
   "execution_count": 3,
   "metadata": {},
   "outputs": [],
   "source": [
    "def from100to4(n : int):\n",
    "    res = 0\n",
    "    if n <= 5:\n",
    "        res = 0\n",
    "    elif n <= 33:\n",
    "        res = 1\n",
    "    elif n <= 66:\n",
    "        res = 2\n",
    "    else:\n",
    "        res = 3\n",
    "    return res\n",
    "\n",
    "def merge_folders(input_folders : list[str], output_folder : str):\n",
    "    os.makedirs(output_folder, exist_ok=True)\n",
    "    res_df = {\n",
    "        \"patient\": [],\n",
    "        \"target\": [],\n",
    "        \"path\": []\n",
    "    }\n",
    "    for folder in input_folders:\n",
    "        annotation = pd.read_csv(f\"{folder}/annotation.csv\")\n",
    "        for i, filename in enumerate(annotation[\"path\"]):\n",
    "            filename = os.path.split(filename)[-1]\n",
    "            in_path = f\"{folder}/{filename}\"\n",
    "            out_path = f\"{output_folder}/{filename}\"\n",
    "            os.system(f\"cp {in_path} {out_path}\")\n",
    "            target = int(annotation.iloc[i][\"target\"])\n",
    "            if folder == \"data/train\":\n",
    "                target = from100to4(target)\n",
    "            res_df[\"patient\"].append(annotation.iloc[i][\"patient\"])\n",
    "            res_df[\"target\"].append(target)\n",
    "            res_df[\"path\"].append(os.path.split(out_path)[-1])\n",
    "    res_df = pd.DataFrame(res_df)\n",
    "    res_df.to_csv(f\"{output_folder}/annotation.csv\", index=False)\n",
    "    print(\"Done\")"
   ]
  },
  {
   "cell_type": "code",
   "execution_count": 5,
   "metadata": {},
   "outputs": [],
   "source": [
    "# merge_folders([\"Bdata\", \"data/train\"], \"Bdata+data\")"
   ]
  },
  {
   "cell_type": "code",
   "execution_count": null,
   "metadata": {},
   "outputs": [],
   "source": []
  }
 ],
 "metadata": {
  "kernelspec": {
   "display_name": "venv",
   "language": "python",
   "name": "python3"
  },
  "language_info": {
   "codemirror_mode": {
    "name": "ipython",
    "version": 3
   },
   "file_extension": ".py",
   "mimetype": "text/x-python",
   "name": "python",
   "nbconvert_exporter": "python",
   "pygments_lexer": "ipython3",
   "version": "3.12.3"
  }
 },
 "nbformat": 4,
 "nbformat_minor": 2
}
